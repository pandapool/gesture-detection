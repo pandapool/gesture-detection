{
 "cells": [
  {
   "cell_type": "code",
   "execution_count": 1,
   "metadata": {},
   "outputs": [],
   "source": [
    "import cv2\n",
    "import os"
   ]
  },
  {
   "cell_type": "code",
   "execution_count": null,
   "metadata": {},
   "outputs": [],
   "source": [
    "cap = cv2.VideoCapture(0)\n",
    "cv2.namedWindow('edged')\n",
    "\n",
    "def nothing(x):\n",
    "    pass\n",
    "\n",
    "def get_class_label(val, dictionary):\n",
    "    for key, value in dictionary.items():\n",
    "        if value == val:\n",
    "            return key\n",
    "\n",
    "\n",
    "cv2.createTrackbar('lower_threshold', 'edged', 0, 255, nothing)\n",
    "cv2.createTrackbar('upper_threshold', 'edged', 0, 255, nothing)\n",
    "cv2.setTrackbarPos('lower_threshold', 'edged', 100)\n",
    "cv2.setTrackbarPos('upper_threshold', 'edged', 0)\n",
    "\n",
    "alphabet = {str(i):i for i in range(0,6)}\n",
    "\n",
    "index = 5\n",
    "current_letter = get_class_label(index, alphabet)\n",
    "\n",
    "path = 'c:/Users/hp/Desktop/my_dataset_edges/all/' + str(current_letter) + '/'\n",
    "if not os.path.exists(path):\n",
    "    try:\n",
    "        os.makedirs(path)\n",
    "    except:\n",
    "        print 'Unable to create directory'\n",
    "\n",
    "\n",
    "i = 0\n",
    "while(1):\n",
    "    ret, frame = cap.read()\n",
    "    x_0 = int(frame.shape[1] * 0.1)\n",
    "    y_0 = int(frame.shape[0] * 0.25)\n",
    "    x_1 = int(x_0 + 200)\n",
    "    y_1 = int(y_0 + 200)\n",
    "\n",
    "\n",
    "    hand = frame.copy()[y_0:y_1, x_0:x_1]\n",
    "    gray = cv2.cvtColor(hand, cv2.COLOR_BGR2GRAY)\n",
    "    blured = cv2.GaussianBlur(gray, (5, 5), 0)\n",
    "    blured = cv2.erode(blured, None, iterations=2)\n",
    "    blured = cv2.dilate(blured, None, iterations=2)\n",
    "   \n",
    "    lower = cv2.getTrackbarPos('lower_threshold', 'edged')\n",
    "    upper = cv2.getTrackbarPos('upper_threshold', 'edged')\n",
    "    edged = cv2.Canny(blured,lower,upper)\n",
    "\n",
    "    cv2.imshow('frame',frame)\n",
    "    cv2.imshow('edged',edged)\n",
    "\n",
    "    if i > 600:\n",
    "        cv2.imwrite(path + str(i-600) + '.jpg',edged)\n",
    "    i += 1\n",
    "\n",
    "    if i > 1800:\n",
    "        break\n",
    "\n",
    "    key = cv2.waitKey(15) \n",
    "    if key == 27:\n",
    "        break\n",
    "\n",
    "cap.release()\n",
    "cv2.destroyAllWindows()"
   ]
  },
  {
   "cell_type": "code",
   "execution_count": null,
   "metadata": {},
   "outputs": [],
   "source": []
  },
  {
   "cell_type": "code",
   "execution_count": null,
   "metadata": {},
   "outputs": [],
   "source": []
  },
  {
   "cell_type": "code",
   "execution_count": null,
   "metadata": {},
   "outputs": [],
   "source": []
  },
  {
   "cell_type": "code",
   "execution_count": 1,
   "metadata": {},
   "outputs": [
    {
     "ename": "NameError",
     "evalue": "name 'vc' is not defined",
     "output_type": "error",
     "traceback": [
      "\u001b[1;31m---------------------------------------------------------------------------\u001b[0m",
      "\u001b[1;31mNameError\u001b[0m                                 Traceback (most recent call last)",
      "\u001b[1;32m<ipython-input-1-0097ecbf5290>\u001b[0m in \u001b[0;36m<module>\u001b[1;34m()\u001b[0m\n\u001b[1;32m----> 1\u001b[1;33m \u001b[0mvc\u001b[0m\u001b[1;33m.\u001b[0m\u001b[0mrelease\u001b[0m\u001b[1;33m(\u001b[0m\u001b[1;33m)\u001b[0m\u001b[1;33m\u001b[0m\u001b[0m\n\u001b[0m",
      "\u001b[1;31mNameError\u001b[0m: name 'vc' is not defined"
     ]
    }
   ],
   "source": [
    "vc.release()"
   ]
  },
  {
   "cell_type": "code",
   "execution_count": 5,
   "metadata": {},
   "outputs": [],
   "source": [
    "cap = cv2.VideoCapture(0)\n",
    "\n",
    "i=0\n",
    "\n",
    "path = 'C:/Users/hp/Desktop/my_dataset_edges/'\n",
    "\n",
    "if not os.path.exists(path):\n",
    "    try:\n",
    "        makedirs(path)\n",
    "    except:\n",
    "        pass\n",
    "    \n",
    "while True:\n",
    "    _,frame = cap.read()\n",
    "    \n",
    "    cv2.imshow('frame',frame)\n",
    "    \n",
    "    if i>50:\n",
    "        cv2.imwrite(path + str(i) + '.jpg', frame)\n",
    "    \n",
    "    if i>1200:\n",
    "        break\n",
    "    i = i+1\n",
    "\n",
    "cap.release()\n",
    "cv2.destroyAllWindows()"
   ]
  },
  {
   "cell_type": "code",
   "execution_count": null,
   "metadata": {},
   "outputs": [],
   "source": []
  }
 ],
 "metadata": {
  "kernelspec": {
   "display_name": "Python 2",
   "language": "python",
   "name": "python2"
  },
  "language_info": {
   "codemirror_mode": {
    "name": "ipython",
    "version": 2
   },
   "file_extension": ".py",
   "mimetype": "text/x-python",
   "name": "python",
   "nbconvert_exporter": "python",
   "pygments_lexer": "ipython2",
   "version": "2.7.15"
  }
 },
 "nbformat": 4,
 "nbformat_minor": 2
}
